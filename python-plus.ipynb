{
 "cells": [
  {
   "cell_type": "markdown",
   "id": "39f4020e",
   "metadata": {},
   "source": [
    "# python-plus"
   ]
  },
  {
   "cell_type": "markdown",
   "id": "796d13b0",
   "metadata": {},
   "source": [
    "## 1. 数据结构"
   ]
  },
  {
   "cell_type": "markdown",
   "id": "107c03a3",
   "metadata": {},
   "source": [
    "### 在列表、字典、集合中根据条件筛选数据"
   ]
  },
  {
   "cell_type": "code",
   "execution_count": 23,
   "id": "b77333bd",
   "metadata": {},
   "outputs": [
    {
     "data": {
      "text/plain": [
       "[2, 2, 4, 5]"
      ]
     },
     "execution_count": 23,
     "metadata": {},
     "output_type": "execute_result"
    }
   ],
   "source": [
    "# for list\n",
    "\n",
    "data = [2,2,-3,4,5,-78]\n",
    "\n",
    "# 第一种解法：使用 过滤器\n",
    "result = list ( filter(lambda x: x > 0, data) )\n",
    "result\n",
    "\n",
    "# 第二种解法： 列表解析\n",
    "## 即把for-loop 和 condition 写入 list中\n",
    "result = [x for x in data if x >= 0]\n",
    "result"
   ]
  },
  {
   "cell_type": "code",
   "execution_count": 22,
   "id": "22ffe347",
   "metadata": {},
   "outputs": [
    {
     "data": {
      "text/plain": [
       "{3: 656, 655: 435}"
      ]
     },
     "execution_count": 22,
     "metadata": {},
     "output_type": "execute_result"
    }
   ],
   "source": [
    "# for dict\n",
    "\n",
    "d = {2:34,2:54,3:656,655:435}\n",
    "result = {k : v for k,v in d.items() if v > 90}\n",
    "result"
   ]
  },
  {
   "cell_type": "code",
   "execution_count": 28,
   "id": "76de256c",
   "metadata": {},
   "outputs": [
    {
     "data": {
      "text/plain": [
       "{54, 576}"
      ]
     },
     "execution_count": 28,
     "metadata": {},
     "output_type": "execute_result"
    }
   ],
   "source": [
    "# for set\n",
    "\n",
    "s = {2,54,576,787,5465}\n",
    "\n",
    "result = {x for x in s if x %3 == 0}\n",
    "result "
   ]
  },
  {
   "cell_type": "markdown",
   "id": "f99f04be",
   "metadata": {},
   "source": [
    "### 2.为元组中的每个元素命名（花里胡哨，不如dict"
   ]
  },
  {
   "cell_type": "code",
   "execution_count": 37,
   "id": "63a2e94f",
   "metadata": {},
   "outputs": [
    {
     "name": "stdout",
     "output_type": "stream",
     "text": [
      "Airing\n"
     ]
    }
   ],
   "source": [
    "# 方案一： 定义类似C语言中的枚举类型\n",
    "\n",
    "name = 0\n",
    "age = 1\n",
    "sex = 2\n",
    "email = 3\n",
    "\n",
    "# or name,age,sex,email = xrange(4)\n",
    "\n",
    "student = ('Airing', 20, 'male', 'airing@ursb.me')\n",
    "\n",
    "# name\n",
    "print(student[name])"
   ]
  },
  {
   "cell_type": "code",
   "execution_count": 40,
   "id": "2e7a07ee",
   "metadata": {},
   "outputs": [
    {
     "name": "stdout",
     "output_type": "stream",
     "text": [
      "Airing\n"
     ]
    },
    {
     "data": {
      "text/plain": [
       "True"
      ]
     },
     "execution_count": 40,
     "metadata": {},
     "output_type": "execute_result"
    }
   ],
   "source": [
    "# 使用collections.namedtuple 替代内置 tuple\n",
    "\n",
    "from collections import namedtuple\n",
    "\n",
    "# 相当于类的工厂\n",
    "Student = namedtuple('Student', ['name', 'age', 'sex', 'email'])\n",
    "\n",
    "# 相当于实例化对象\n",
    "s = Student('Airing', 20, 'male', 'airing@ursb.me')\n",
    "\n",
    "# 也可以使用关键字传参，但是位置需要对应\n",
    "s2 = Student(name = 'Jim', age = 19, sex = 'male', email = 'jin@github.com')\n",
    "\n",
    "# 访问元素相当于访问对象的属性\n",
    "print(s.name)\n",
    "\n",
    "# s也是内置类型 tuple 的子类\n",
    "isinstance(s,tuple) # => true"
   ]
  },
  {
   "cell_type": "markdown",
   "id": "8518609a",
   "metadata": {},
   "source": [
    "### 3. 统计序列中元素的出现频率"
   ]
  },
  {
   "cell_type": "code",
   "execution_count": 45,
   "id": "af026f3d",
   "metadata": {},
   "outputs": [
    {
     "name": "stdout",
     "output_type": "stream",
     "text": [
      "{17: 2, 14: 2, 7: 3, 1: 1, 5: 2, 10: 2, 18: 1, 4: 4, 11: 2, 20: 3, 15: 1, 19: 1, 3: 2, 6: 2, 9: 1, 8: 1}\n"
     ]
    }
   ],
   "source": [
    "# 常规解法： 迭代\n",
    "\n",
    "# 首先，先使用列表解析创建一个随机的序列\n",
    "import random\n",
    "\n",
    "# 生成一个含有30个元素范围为0~20的随机序列\n",
    "data = [random.randint(0,20) for _ in range(30)]\n",
    "\n",
    "# 统计结果是一个字典，其中data中的元素为键，0为初始值\n",
    "c = dict.fromkeys(data,0)\n",
    "\n",
    "# here is the Iteration \n",
    "for x in data:\n",
    "    c[x] += 1\n",
    "    \n",
    "print(c)"
   ]
  },
  {
   "cell_type": "markdown",
   "id": "ae2cc4e7",
   "metadata": {},
   "source": [
    "使用 `collections` 下的 `Counter` 对象，具体步骤：\n",
    "\n",
    "* 将序列传入 `Counter` 的构造器，得到 `Counter` 对象是元素频度的字典。\n",
    "* `Counter.most_common(n)`方法得到频度最高的n个元素的列表。"
   ]
  },
  {
   "cell_type": "code",
   "execution_count": 49,
   "id": "d8c15f09",
   "metadata": {},
   "outputs": [
    {
     "name": "stdout",
     "output_type": "stream",
     "text": [
      "Counter({4: 4, 7: 3, 20: 3, 17: 2, 14: 2, 5: 2, 10: 2, 11: 2, 3: 2, 6: 2, 1: 1, 18: 1, 15: 1, 19: 1, 9: 1, 8: 1})\n",
      "[(4, 4), (7, 3), (20, 3)]\n"
     ]
    }
   ],
   "source": [
    "import collections\n",
    "\n",
    "c2 = collections.Counter(data)\n",
    "\n",
    "# 获取所有元素的出现频率的字典\n",
    "print(c2)\n",
    "\n",
    "# 获取出现频率最高的3个元素\n",
    "print(c2.most_common(3)) # return in list"
   ]
  },
  {
   "cell_type": "markdown",
   "id": "98250fcb",
   "metadata": {},
   "source": [
    "### 对英语文章进行词频统计"
   ]
  },
  {
   "cell_type": "code",
   "execution_count": 55,
   "id": "9c8b6002",
   "metadata": {},
   "outputs": [
    {
     "name": "stdout",
     "output_type": "stream",
     "text": [
      "[('the', 31), ('of', 23), ('to', 10), ('that', 9), ('in', 7), ('and', 7), ('was', 7), ('she', 6), ('be', 6), ('not', 6)]\n"
     ]
    }
   ],
   "source": [
    "import re\n",
    "import urllib.request\n",
    "\n",
    "# 读取网络文件并赋值于 txt 文件中\n",
    "result = urllib.request.urlopen('https://airing.ursb.me//python/text.txt')\n",
    "txt = result.read().decode(\"utf-8\")\n",
    "\n",
    "# 使用正则表达式分割 txt 中的单词存于序列中\n",
    "# 再使用 Counter 进行频度统计并返回字典\n",
    "c3 = collections.Counter(re.split('\\W+', txt))\n",
    "\n",
    "print(c3.most_common(10))"
   ]
  },
  {
   "cell_type": "markdown",
   "id": "d5294ce8",
   "metadata": {},
   "source": [
    "### 4.对字典中的项根据其值的大小进行排序"
   ]
  },
  {
   "cell_type": "code",
   "execution_count": 64,
   "id": "8136f923",
   "metadata": {},
   "outputs": [
    {
     "data": {
      "text/plain": [
       "[(50, 'Bill'), (70, 'Penny'), (100, 'Airing')]"
      ]
     },
     "execution_count": 64,
     "metadata": {},
     "output_type": "execute_result"
    }
   ],
   "source": [
    "# 常规解法： 使用 zip  将字典转成元组\n",
    "# 1. 利用zip 将字典转化成元组\n",
    "# 2. 使用 sorted 函数进行排序\n",
    "\n",
    "d = {'Airing': 100, 'Penny': 70, 'Bill': 50}\n",
    "\n",
    "# 如果直接对字典进行排序，会默认按键值进行排序\n",
    "sorted(d)\n",
    "\n",
    "# 因此，将字典转成元祖的列表处理\n",
    "# 元组值前键后，会有限按照值排序\n",
    "f = zip(d.values(),d.keys())\n",
    "sorted(f)"
   ]
  },
  {
   "cell_type": "code",
   "execution_count": 67,
   "id": "018fe628",
   "metadata": {},
   "outputs": [
    {
     "data": {
      "text/plain": [
       "[('Bill', 50), ('Penny', 70), ('Airing', 100)]"
      ]
     },
     "execution_count": 67,
     "metadata": {},
     "output_type": "execute_result"
    }
   ],
   "source": [
    "# 使用 sorted 函数的key 参数\n",
    "\n",
    "d.items() # ([('Airing', 100), ('Penny', 70), ('Bill', 50)])\n",
    "# 此时，值在后\n",
    "\n",
    "sorted(d.items(), key = lambda x: x[1])"
   ]
  },
  {
   "cell_type": "markdown",
   "id": "322bf625",
   "metadata": {},
   "source": [
    "### 5.快速找到多个字典的公共键\n"
   ]
  },
  {
   "cell_type": "code",
   "execution_count": 93,
   "id": "5e1a6072",
   "metadata": {},
   "outputs": [
    {
     "ename": "AttributeError",
     "evalue": "'str' object has no attribute 'keys'",
     "output_type": "error",
     "traceback": [
      "\u001b[1;31m---------------------------------------------------------------------------\u001b[0m",
      "\u001b[1;31mAttributeError\u001b[0m                            Traceback (most recent call last)",
      "\u001b[1;32m<ipython-input-93-c21261239e56>\u001b[0m in \u001b[0;36m<module>\u001b[1;34m\u001b[0m\n\u001b[0;32m     10\u001b[0m         \u001b[1;32mfor\u001b[0m \u001b[0mj\u001b[0m \u001b[1;32min\u001b[0m \u001b[0ms3\u001b[0m\u001b[1;33m:\u001b[0m\u001b[1;33m\u001b[0m\u001b[1;33m\u001b[0m\u001b[0m\n\u001b[0;32m     11\u001b[0m             \u001b[1;32mif\u001b[0m \u001b[0mk\u001b[0m \u001b[1;33m==\u001b[0m \u001b[0ml\u001b[0m \u001b[1;32mand\u001b[0m \u001b[0mk\u001b[0m \u001b[1;33m==\u001b[0m \u001b[0mj\u001b[0m\u001b[1;33m:\u001b[0m\u001b[1;33m\u001b[0m\u001b[1;33m\u001b[0m\u001b[0m\n\u001b[1;32m---> 12\u001b[1;33m                 \u001b[0mres\u001b[0m\u001b[1;33m.\u001b[0m\u001b[0mappend\u001b[0m\u001b[1;33m(\u001b[0m\u001b[0mk\u001b[0m\u001b[1;33m.\u001b[0m\u001b[0mkeys\u001b[0m\u001b[1;33m(\u001b[0m\u001b[1;33m)\u001b[0m\u001b[1;33m)\u001b[0m\u001b[1;33m\u001b[0m\u001b[1;33m\u001b[0m\u001b[0m\n\u001b[0m\u001b[0;32m     13\u001b[0m \u001b[0mprint\u001b[0m\u001b[1;33m(\u001b[0m\u001b[0mres\u001b[0m\u001b[1;33m)\u001b[0m\u001b[1;33m\u001b[0m\u001b[1;33m\u001b[0m\u001b[0m\n",
      "\u001b[1;31mAttributeError\u001b[0m: 'str' object has no attribute 'keys'"
     ]
    }
   ],
   "source": [
    "# 假设有7名球员，随机取样出 3~6 个球员进球\n",
    "# 字典解析产生每轮的数据\n",
    "s1 = {x: random.randint(1, 4) for x in random.sample('abcdefg', random.randint(3,6))}\n",
    "s2 = {x: random.randint(1, 4) for x in random.sample('abcdefg', random.randint(3,6))}\n",
    "s3 = {x: random.randint(1, 4) for x in random.sample('abcdefg', random.randint(3,6))}"
   ]
  },
  {
   "cell_type": "code",
   "execution_count": null,
   "id": "9462613a",
   "metadata": {},
   "outputs": [],
   "source": [
    "# 常规解法： 迭代\n",
    "\n",
    "res = []\n",
    "for k in s1:\n",
    "    for  l in s2:\n",
    "        for j in s3:\n",
    "            if k == l and k == j:\n",
    "                res.append()\n",
    "print(res)"
   ]
  },
  {
   "cell_type": "code",
   "execution_count": 94,
   "id": "65f83389",
   "metadata": {},
   "outputs": [
    {
     "name": "stdout",
     "output_type": "stream",
     "text": [
      "{'e', 'f'}\n"
     ]
    }
   ],
   "source": [
    "# 利用集合的交集操作\n",
    "\n",
    "print(s1.keys() & s2.keys() & s3.keys())"
   ]
  },
  {
   "cell_type": "code",
   "execution_count": 96,
   "id": "3c7f3568",
   "metadata": {},
   "outputs": [
    {
     "data": {
      "text/plain": [
       "{'e', 'f'}"
      ]
     },
     "execution_count": 96,
     "metadata": {},
     "output_type": "execute_result"
    }
   ],
   "source": [
    "# map-reduce\n",
    "\n",
    "from functools  import reduce\n",
    "\n",
    "reduce(lambda a,b : a & b, map(dict.keys,[s1, s2, s3]))"
   ]
  },
  {
   "cell_type": "markdown",
   "id": "0eafd6f2",
   "metadata": {},
   "source": [
    "### 6. 让字典保持有序"
   ]
  },
  {
   "cell_type": "code",
   "execution_count": 103,
   "id": "f859deb2",
   "metadata": {},
   "outputs": [
    {
     "name": "stdout",
     "output_type": "stream",
     "text": [
      "Jin\n",
      "Bonfds\n",
      "dewf\n"
     ]
    }
   ],
   "source": [
    "# 内置的默认字典不存在时间有序性，输出时默认按key值进行排序\n",
    "# 以此，用orderdict 替代 内置字典Dict\n",
    "\n",
    "d = collections.OrderedDict()\n",
    "\n",
    "d['Jin'] = {\"sd\",\"dsf\"}\n",
    "d['Bonfds'] = {\"ds\",\"df\"}\n",
    "d['dewf'] = {\"efds\",\"dgd\"}\n",
    "\n",
    "for k in d:\n",
    "    print(k)"
   ]
  },
  {
   "cell_type": "markdown",
   "id": "119c0364",
   "metadata": {},
   "source": [
    "### 拆分含有多种分隔符的字符串"
   ]
  },
  {
   "cell_type": "code",
   "execution_count": 111,
   "id": "86013ccc",
   "metadata": {},
   "outputs": [
    {
     "name": "stdout",
     "output_type": "stream",
     "text": [
      "['ab', 'cd', 'efg', 'hi', 'jkl', 'mn', 'opg', 'rst', 'uvw', 'xyz']\n"
     ]
    }
   ],
   "source": [
    "s = 'ab;cd|efg|hi,jkl|mn\\topg;rst,uvw\\txyz'\n",
    "print(re.split(r'[;,|\\t]+',s))"
   ]
  }
 ],
 "metadata": {
  "kernelspec": {
   "display_name": "Python 3",
   "language": "python",
   "name": "python3"
  },
  "language_info": {
   "codemirror_mode": {
    "name": "ipython",
    "version": 3
   },
   "file_extension": ".py",
   "mimetype": "text/x-python",
   "name": "python",
   "nbconvert_exporter": "python",
   "pygments_lexer": "ipython3",
   "version": "3.8.10"
  }
 },
 "nbformat": 4,
 "nbformat_minor": 5
}
